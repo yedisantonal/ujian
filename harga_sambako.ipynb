{
 "cells": [
  {
   "cell_type": "code",
   "execution_count": 31,
   "id": "996e69fb",
   "metadata": {},
   "outputs": [],
   "source": [
    "import pandas as pd\n",
    "import numpy as np\n",
    "import matplotlib.pyplot as plt\n",
    "from scipy import stats\n",
    "import numpy as np\n",
    "import numpy.ma as ma"
   ]
  },
  {
   "cell_type": "code",
   "execution_count": 3,
   "id": "ce9ec3ce",
   "metadata": {},
   "outputs": [
    {
     "data": {
      "text/html": [
       "<div>\n",
       "<style scoped>\n",
       "    .dataframe tbody tr th:only-of-type {\n",
       "        vertical-align: middle;\n",
       "    }\n",
       "\n",
       "    .dataframe tbody tr th {\n",
       "        vertical-align: top;\n",
       "    }\n",
       "\n",
       "    .dataframe thead th {\n",
       "        text-align: right;\n",
       "    }\n",
       "</style>\n",
       "<table border=\"1\" class=\"dataframe\">\n",
       "  <thead>\n",
       "    <tr style=\"text-align: right;\">\n",
       "      <th></th>\n",
       "      <th>beras</th>\n",
       "      <th>daging_ayam</th>\n",
       "      <th>daging_sapi</th>\n",
       "      <th>bawang_merah</th>\n",
       "      <th>bawang_putih</th>\n",
       "      <th>cabai_rawit</th>\n",
       "      <th>minyak_goreng</th>\n",
       "      <th>gula_pasir</th>\n",
       "    </tr>\n",
       "  </thead>\n",
       "  <tbody>\n",
       "    <tr>\n",
       "      <th>0</th>\n",
       "      <td>12450</td>\n",
       "      <td>34500</td>\n",
       "      <td>138750</td>\n",
       "      <td>32000</td>\n",
       "      <td>23000</td>\n",
       "      <td>68750</td>\n",
       "      <td>17450</td>\n",
       "      <td>14100</td>\n",
       "    </tr>\n",
       "    <tr>\n",
       "      <th>1</th>\n",
       "      <td>12450</td>\n",
       "      <td>34500</td>\n",
       "      <td>138750</td>\n",
       "      <td>33000</td>\n",
       "      <td>23000</td>\n",
       "      <td>86250</td>\n",
       "      <td>17450</td>\n",
       "      <td>14100</td>\n",
       "    </tr>\n",
       "    <tr>\n",
       "      <th>2</th>\n",
       "      <td>12450</td>\n",
       "      <td>33250</td>\n",
       "      <td>138750</td>\n",
       "      <td>33500</td>\n",
       "      <td>23000</td>\n",
       "      <td>67900</td>\n",
       "      <td>17450</td>\n",
       "      <td>14100</td>\n",
       "    </tr>\n",
       "    <tr>\n",
       "      <th>3</th>\n",
       "      <td>12450</td>\n",
       "      <td>33000</td>\n",
       "      <td>138750</td>\n",
       "      <td>33500</td>\n",
       "      <td>23000</td>\n",
       "      <td>60000</td>\n",
       "      <td>17450</td>\n",
       "      <td>14100</td>\n",
       "    </tr>\n",
       "    <tr>\n",
       "      <th>4</th>\n",
       "      <td>12450</td>\n",
       "      <td>33000</td>\n",
       "      <td>138750</td>\n",
       "      <td>33500</td>\n",
       "      <td>23000</td>\n",
       "      <td>55500</td>\n",
       "      <td>17450</td>\n",
       "      <td>14100</td>\n",
       "    </tr>\n",
       "    <tr>\n",
       "      <th>5</th>\n",
       "      <td>12450</td>\n",
       "      <td>31000</td>\n",
       "      <td>138750</td>\n",
       "      <td>33500</td>\n",
       "      <td>23000</td>\n",
       "      <td>66250</td>\n",
       "      <td>17450</td>\n",
       "      <td>14100</td>\n",
       "    </tr>\n",
       "    <tr>\n",
       "      <th>6</th>\n",
       "      <td>12450</td>\n",
       "      <td>30500</td>\n",
       "      <td>138750</td>\n",
       "      <td>34000</td>\n",
       "      <td>23000</td>\n",
       "      <td>60000</td>\n",
       "      <td>17450</td>\n",
       "      <td>14100</td>\n",
       "    </tr>\n",
       "    <tr>\n",
       "      <th>7</th>\n",
       "      <td>12450</td>\n",
       "      <td>30500</td>\n",
       "      <td>138750</td>\n",
       "      <td>34000</td>\n",
       "      <td>23000</td>\n",
       "      <td>57650</td>\n",
       "      <td>17450</td>\n",
       "      <td>14100</td>\n",
       "    </tr>\n",
       "    <tr>\n",
       "      <th>8</th>\n",
       "      <td>12450</td>\n",
       "      <td>29250</td>\n",
       "      <td>138750</td>\n",
       "      <td>34000</td>\n",
       "      <td>23000</td>\n",
       "      <td>58650</td>\n",
       "      <td>17450</td>\n",
       "      <td>14100</td>\n",
       "    </tr>\n",
       "    <tr>\n",
       "      <th>9</th>\n",
       "      <td>12450</td>\n",
       "      <td>28500</td>\n",
       "      <td>138750</td>\n",
       "      <td>34000</td>\n",
       "      <td>23000</td>\n",
       "      <td>55650</td>\n",
       "      <td>17450</td>\n",
       "      <td>14100</td>\n",
       "    </tr>\n",
       "    <tr>\n",
       "      <th>10</th>\n",
       "      <td>12450</td>\n",
       "      <td>27750</td>\n",
       "      <td>138750</td>\n",
       "      <td>35500</td>\n",
       "      <td>24000</td>\n",
       "      <td>46250</td>\n",
       "      <td>17450</td>\n",
       "      <td>14100</td>\n",
       "    </tr>\n",
       "    <tr>\n",
       "      <th>11</th>\n",
       "      <td>12450</td>\n",
       "      <td>28750</td>\n",
       "      <td>138750</td>\n",
       "      <td>35500</td>\n",
       "      <td>24000</td>\n",
       "      <td>42000</td>\n",
       "      <td>17450</td>\n",
       "      <td>14100</td>\n",
       "    </tr>\n",
       "    <tr>\n",
       "      <th>12</th>\n",
       "      <td>12450</td>\n",
       "      <td>30000</td>\n",
       "      <td>138750</td>\n",
       "      <td>35500</td>\n",
       "      <td>24000</td>\n",
       "      <td>50250</td>\n",
       "      <td>17450</td>\n",
       "      <td>14100</td>\n",
       "    </tr>\n",
       "    <tr>\n",
       "      <th>13</th>\n",
       "      <td>12450</td>\n",
       "      <td>28250</td>\n",
       "      <td>138750</td>\n",
       "      <td>35500</td>\n",
       "      <td>24000</td>\n",
       "      <td>48650</td>\n",
       "      <td>17450</td>\n",
       "      <td>14100</td>\n",
       "    </tr>\n",
       "    <tr>\n",
       "      <th>14</th>\n",
       "      <td>12450</td>\n",
       "      <td>28250</td>\n",
       "      <td>138750</td>\n",
       "      <td>36500</td>\n",
       "      <td>24000</td>\n",
       "      <td>46650</td>\n",
       "      <td>17450</td>\n",
       "      <td>14100</td>\n",
       "    </tr>\n",
       "    <tr>\n",
       "      <th>15</th>\n",
       "      <td>12450</td>\n",
       "      <td>28250</td>\n",
       "      <td>138750</td>\n",
       "      <td>36500</td>\n",
       "      <td>24000</td>\n",
       "      <td>46650</td>\n",
       "      <td>17450</td>\n",
       "      <td>14100</td>\n",
       "    </tr>\n",
       "  </tbody>\n",
       "</table>\n",
       "</div>"
      ],
      "text/plain": [
       "    beras  daging_ayam  daging_sapi  bawang_merah  bawang_putih  cabai_rawit  \\\n",
       "0   12450        34500       138750         32000         23000        68750   \n",
       "1   12450        34500       138750         33000         23000        86250   \n",
       "2   12450        33250       138750         33500         23000        67900   \n",
       "3   12450        33000       138750         33500         23000        60000   \n",
       "4   12450        33000       138750         33500         23000        55500   \n",
       "5   12450        31000       138750         33500         23000        66250   \n",
       "6   12450        30500       138750         34000         23000        60000   \n",
       "7   12450        30500       138750         34000         23000        57650   \n",
       "8   12450        29250       138750         34000         23000        58650   \n",
       "9   12450        28500       138750         34000         23000        55650   \n",
       "10  12450        27750       138750         35500         24000        46250   \n",
       "11  12450        28750       138750         35500         24000        42000   \n",
       "12  12450        30000       138750         35500         24000        50250   \n",
       "13  12450        28250       138750         35500         24000        48650   \n",
       "14  12450        28250       138750         36500         24000        46650   \n",
       "15  12450        28250       138750         36500         24000        46650   \n",
       "\n",
       "    minyak_goreng  gula_pasir  \n",
       "0           17450       14100  \n",
       "1           17450       14100  \n",
       "2           17450       14100  \n",
       "3           17450       14100  \n",
       "4           17450       14100  \n",
       "5           17450       14100  \n",
       "6           17450       14100  \n",
       "7           17450       14100  \n",
       "8           17450       14100  \n",
       "9           17450       14100  \n",
       "10          17450       14100  \n",
       "11          17450       14100  \n",
       "12          17450       14100  \n",
       "13          17450       14100  \n",
       "14          17450       14100  \n",
       "15          17450       14100  "
      ]
     },
     "execution_count": 3,
     "metadata": {},
     "output_type": "execute_result"
    }
   ],
   "source": [
    "df = pd.read_csv(\"e:\\harga_sambako.csv\", sep=\";\")\n",
    "df"
   ]
  },
  {
   "cell_type": "code",
   "execution_count": 4,
   "id": "23a609ef",
   "metadata": {},
   "outputs": [
    {
     "name": "stdout",
     "output_type": "stream",
     "text": [
      "<class 'pandas.core.frame.DataFrame'>\n",
      "RangeIndex: 16 entries, 0 to 15\n",
      "Data columns (total 8 columns):\n",
      " #   Column         Non-Null Count  Dtype\n",
      "---  ------         --------------  -----\n",
      " 0   beras          16 non-null     int64\n",
      " 1   daging_ayam    16 non-null     int64\n",
      " 2   daging_sapi    16 non-null     int64\n",
      " 3   bawang_merah   16 non-null     int64\n",
      " 4   bawang_putih   16 non-null     int64\n",
      " 5   cabai_rawit    16 non-null     int64\n",
      " 6   minyak_goreng  16 non-null     int64\n",
      " 7   gula_pasir     16 non-null     int64\n",
      "dtypes: int64(8)\n",
      "memory usage: 1.1 KB\n"
     ]
    }
   ],
   "source": [
    "df.info()"
   ]
  },
  {
   "cell_type": "code",
   "execution_count": 5,
   "id": "6c00c03f",
   "metadata": {},
   "outputs": [
    {
     "data": {
      "text/plain": [
       "(16, 8)"
      ]
     },
     "execution_count": 5,
     "metadata": {},
     "output_type": "execute_result"
    }
   ],
   "source": [
    "df.shape"
   ]
  },
  {
   "cell_type": "code",
   "execution_count": 6,
   "id": "04e2c407",
   "metadata": {},
   "outputs": [
    {
     "data": {
      "text/plain": [
       "Index(['beras', 'daging_ayam', 'daging_sapi', 'bawang_merah', 'bawang_putih',\n",
       "       'cabai_rawit', 'minyak_goreng', 'gula_pasir'],\n",
       "      dtype='object')"
      ]
     },
     "execution_count": 6,
     "metadata": {},
     "output_type": "execute_result"
    }
   ],
   "source": [
    "df.columns"
   ]
  },
  {
   "cell_type": "code",
   "execution_count": 7,
   "id": "13a6ae80",
   "metadata": {},
   "outputs": [
    {
     "data": {
      "text/plain": [
       "['beras',\n",
       " 'daging_ayam',\n",
       " 'daging_sapi',\n",
       " 'bawang_merah',\n",
       " 'bawang_putih',\n",
       " 'cabai_rawit',\n",
       " 'minyak_goreng',\n",
       " 'gula_pasir']"
      ]
     },
     "execution_count": 7,
     "metadata": {},
     "output_type": "execute_result"
    }
   ],
   "source": [
    "list(df)"
   ]
  },
  {
   "cell_type": "code",
   "execution_count": 8,
   "id": "5a675db4",
   "metadata": {},
   "outputs": [
    {
     "data": {
      "text/html": [
       "<div>\n",
       "<style scoped>\n",
       "    .dataframe tbody tr th:only-of-type {\n",
       "        vertical-align: middle;\n",
       "    }\n",
       "\n",
       "    .dataframe tbody tr th {\n",
       "        vertical-align: top;\n",
       "    }\n",
       "\n",
       "    .dataframe thead th {\n",
       "        text-align: right;\n",
       "    }\n",
       "</style>\n",
       "<table border=\"1\" class=\"dataframe\">\n",
       "  <thead>\n",
       "    <tr style=\"text-align: right;\">\n",
       "      <th></th>\n",
       "      <th>beras</th>\n",
       "      <th>daging_ayam</th>\n",
       "      <th>daging_sapi</th>\n",
       "      <th>bawang_merah</th>\n",
       "      <th>bawang_putih</th>\n",
       "      <th>cabai_rawit</th>\n",
       "      <th>minyak_goreng</th>\n",
       "      <th>gula_pasir</th>\n",
       "    </tr>\n",
       "  </thead>\n",
       "  <tbody>\n",
       "    <tr>\n",
       "      <th>count</th>\n",
       "      <td>16.0</td>\n",
       "      <td>16.000000</td>\n",
       "      <td>16.0</td>\n",
       "      <td>16.000000</td>\n",
       "      <td>16.0</td>\n",
       "      <td>16.000000</td>\n",
       "      <td>16.0</td>\n",
       "      <td>16.0</td>\n",
       "    </tr>\n",
       "    <tr>\n",
       "      <th>mean</th>\n",
       "      <td>12450.0</td>\n",
       "      <td>30578.125000</td>\n",
       "      <td>138750.0</td>\n",
       "      <td>34375.000000</td>\n",
       "      <td>23375.0</td>\n",
       "      <td>57315.625000</td>\n",
       "      <td>17450.0</td>\n",
       "      <td>14100.0</td>\n",
       "    </tr>\n",
       "    <tr>\n",
       "      <th>std</th>\n",
       "      <td>0.0</td>\n",
       "      <td>2364.174891</td>\n",
       "      <td>0.0</td>\n",
       "      <td>1297.433364</td>\n",
       "      <td>500.0</td>\n",
       "      <td>11230.059643</td>\n",
       "      <td>0.0</td>\n",
       "      <td>0.0</td>\n",
       "    </tr>\n",
       "    <tr>\n",
       "      <th>min</th>\n",
       "      <td>12450.0</td>\n",
       "      <td>27750.000000</td>\n",
       "      <td>138750.0</td>\n",
       "      <td>32000.000000</td>\n",
       "      <td>23000.0</td>\n",
       "      <td>42000.000000</td>\n",
       "      <td>17450.0</td>\n",
       "      <td>14100.0</td>\n",
       "    </tr>\n",
       "    <tr>\n",
       "      <th>25%</th>\n",
       "      <td>12450.0</td>\n",
       "      <td>28437.500000</td>\n",
       "      <td>138750.0</td>\n",
       "      <td>33500.000000</td>\n",
       "      <td>23000.0</td>\n",
       "      <td>48150.000000</td>\n",
       "      <td>17450.0</td>\n",
       "      <td>14100.0</td>\n",
       "    </tr>\n",
       "    <tr>\n",
       "      <th>50%</th>\n",
       "      <td>12450.0</td>\n",
       "      <td>30250.000000</td>\n",
       "      <td>138750.0</td>\n",
       "      <td>34000.000000</td>\n",
       "      <td>23000.0</td>\n",
       "      <td>56650.000000</td>\n",
       "      <td>17450.0</td>\n",
       "      <td>14100.0</td>\n",
       "    </tr>\n",
       "    <tr>\n",
       "      <th>75%</th>\n",
       "      <td>12450.0</td>\n",
       "      <td>33000.000000</td>\n",
       "      <td>138750.0</td>\n",
       "      <td>35500.000000</td>\n",
       "      <td>24000.0</td>\n",
       "      <td>61562.500000</td>\n",
       "      <td>17450.0</td>\n",
       "      <td>14100.0</td>\n",
       "    </tr>\n",
       "    <tr>\n",
       "      <th>max</th>\n",
       "      <td>12450.0</td>\n",
       "      <td>34500.000000</td>\n",
       "      <td>138750.0</td>\n",
       "      <td>36500.000000</td>\n",
       "      <td>24000.0</td>\n",
       "      <td>86250.000000</td>\n",
       "      <td>17450.0</td>\n",
       "      <td>14100.0</td>\n",
       "    </tr>\n",
       "  </tbody>\n",
       "</table>\n",
       "</div>"
      ],
      "text/plain": [
       "         beras   daging_ayam  daging_sapi  bawang_merah  bawang_putih  \\\n",
       "count     16.0     16.000000         16.0     16.000000          16.0   \n",
       "mean   12450.0  30578.125000     138750.0  34375.000000       23375.0   \n",
       "std        0.0   2364.174891          0.0   1297.433364         500.0   \n",
       "min    12450.0  27750.000000     138750.0  32000.000000       23000.0   \n",
       "25%    12450.0  28437.500000     138750.0  33500.000000       23000.0   \n",
       "50%    12450.0  30250.000000     138750.0  34000.000000       23000.0   \n",
       "75%    12450.0  33000.000000     138750.0  35500.000000       24000.0   \n",
       "max    12450.0  34500.000000     138750.0  36500.000000       24000.0   \n",
       "\n",
       "        cabai_rawit  minyak_goreng  gula_pasir  \n",
       "count     16.000000           16.0        16.0  \n",
       "mean   57315.625000        17450.0     14100.0  \n",
       "std    11230.059643            0.0         0.0  \n",
       "min    42000.000000        17450.0     14100.0  \n",
       "25%    48150.000000        17450.0     14100.0  \n",
       "50%    56650.000000        17450.0     14100.0  \n",
       "75%    61562.500000        17450.0     14100.0  \n",
       "max    86250.000000        17450.0     14100.0  "
      ]
     },
     "execution_count": 8,
     "metadata": {},
     "output_type": "execute_result"
    }
   ],
   "source": [
    "df.describe()"
   ]
  },
  {
   "cell_type": "code",
   "execution_count": 10,
   "id": "8ffb0f87",
   "metadata": {},
   "outputs": [
    {
     "data": {
      "text/plain": [
       "beras            0.0\n",
       "daging_ayam      0.0\n",
       "daging_sapi      0.0\n",
       "bawang_merah     0.0\n",
       "bawang_putih     0.0\n",
       "cabai_rawit      0.0\n",
       "minyak_goreng    0.0\n",
       "gula_pasir       0.0\n",
       "dtype: float64"
      ]
     },
     "execution_count": 10,
     "metadata": {},
     "output_type": "execute_result"
    }
   ],
   "source": [
    "df[df.isnull()==True].sum()"
   ]
  },
  {
   "cell_type": "code",
   "execution_count": 11,
   "id": "7571634b",
   "metadata": {},
   "outputs": [
    {
     "data": {
      "text/plain": [
       "beras            False\n",
       "daging_ayam      False\n",
       "daging_sapi      False\n",
       "bawang_merah     False\n",
       "bawang_putih     False\n",
       "cabai_rawit      False\n",
       "minyak_goreng    False\n",
       "gula_pasir       False\n",
       "dtype: bool"
      ]
     },
     "execution_count": 11,
     "metadata": {},
     "output_type": "execute_result"
    }
   ],
   "source": [
    "df.isnull().any()"
   ]
  },
  {
   "cell_type": "code",
   "execution_count": 13,
   "id": "6e5f8161",
   "metadata": {},
   "outputs": [
    {
     "data": {
      "text/plain": [
       "beras             1\n",
       "daging_ayam      11\n",
       "daging_sapi       1\n",
       "bawang_merah      6\n",
       "bawang_putih      2\n",
       "cabai_rawit      14\n",
       "minyak_goreng     1\n",
       "gula_pasir        1\n",
       "dtype: int64"
      ]
     },
     "execution_count": 13,
     "metadata": {},
     "output_type": "execute_result"
    }
   ],
   "source": [
    "df.nunique()"
   ]
  },
  {
   "cell_type": "code",
   "execution_count": 17,
   "id": "730d260f",
   "metadata": {},
   "outputs": [
    {
     "data": {
      "text/plain": [
       "[1, 2, 3, 4, 5, 6, 7, 8, 9, 10, 11, 12, 13, 14, 15]"
      ]
     },
     "execution_count": 17,
     "metadata": {},
     "output_type": "execute_result"
    }
   ],
   "source": [
    "df.index[df['beras'].duplicated()==True].tolist()"
   ]
  },
  {
   "cell_type": "code",
   "execution_count": 19,
   "id": "2f3ba123",
   "metadata": {},
   "outputs": [],
   "source": [
    "#df[df['beras'].duplicated()==True]"
   ]
  },
  {
   "cell_type": "code",
   "execution_count": 25,
   "id": "88746dc2",
   "metadata": {},
   "outputs": [
    {
     "data": {
      "image/png": "[encoded data removed]",
      "text/plain": [
       "<Figure size 640x480 with 1 Axes>"
      ]
     },
     "metadata": {},
     "output_type": "display_data"
    }
   ],
   "source": [
    "for x in df.columns:\n",
    "    plt.plot(df[x], marker=\"o\")\n",
    "plt.legend([a for a in df.columns])\n",
    "plt.show()"
   ]
  },
  {
   "cell_type": "code",
   "execution_count": 28,
   "id": "a2dd6852",
   "metadata": {},
   "outputs": [
    {
     "data": {
      "text/html": [
       "<div>\n",
       "<style scoped>\n",
       "    .dataframe tbody tr th:only-of-type {\n",
       "        vertical-align: middle;\n",
       "    }\n",
       "\n",
       "    .dataframe tbody tr th {\n",
       "        vertical-align: top;\n",
       "    }\n",
       "\n",
       "    .dataframe thead th {\n",
       "        text-align: right;\n",
       "    }\n",
       "</style>\n",
       "<table border=\"1\" class=\"dataframe\">\n",
       "  <thead>\n",
       "    <tr style=\"text-align: right;\">\n",
       "      <th></th>\n",
       "      <th>beras</th>\n",
       "      <th>daging_ayam</th>\n",
       "      <th>daging_sapi</th>\n",
       "      <th>bawang_merah</th>\n",
       "      <th>bawang_putih</th>\n",
       "      <th>cabai_rawit</th>\n",
       "      <th>minyak_goreng</th>\n",
       "      <th>gula_pasir</th>\n",
       "    </tr>\n",
       "  </thead>\n",
       "  <tbody>\n",
       "    <tr>\n",
       "      <th>beras</th>\n",
       "      <td>NaN</td>\n",
       "      <td>NaN</td>\n",
       "      <td>NaN</td>\n",
       "      <td>NaN</td>\n",
       "      <td>NaN</td>\n",
       "      <td>NaN</td>\n",
       "      <td>NaN</td>\n",
       "      <td>NaN</td>\n",
       "    </tr>\n",
       "    <tr>\n",
       "      <th>daging_ayam</th>\n",
       "      <td>NaN</td>\n",
       "      <td>1.000000</td>\n",
       "      <td>NaN</td>\n",
       "      <td>-0.841522</td>\n",
       "      <td>-0.689106</td>\n",
       "      <td>0.821457</td>\n",
       "      <td>NaN</td>\n",
       "      <td>NaN</td>\n",
       "    </tr>\n",
       "    <tr>\n",
       "      <th>daging_sapi</th>\n",
       "      <td>NaN</td>\n",
       "      <td>NaN</td>\n",
       "      <td>NaN</td>\n",
       "      <td>NaN</td>\n",
       "      <td>NaN</td>\n",
       "      <td>NaN</td>\n",
       "      <td>NaN</td>\n",
       "      <td>NaN</td>\n",
       "    </tr>\n",
       "    <tr>\n",
       "      <th>bawang_merah</th>\n",
       "      <td>NaN</td>\n",
       "      <td>-0.841522</td>\n",
       "      <td>NaN</td>\n",
       "      <td>1.000000</td>\n",
       "      <td>0.899211</td>\n",
       "      <td>-0.816704</td>\n",
       "      <td>NaN</td>\n",
       "      <td>NaN</td>\n",
       "    </tr>\n",
       "    <tr>\n",
       "      <th>bawang_putih</th>\n",
       "      <td>NaN</td>\n",
       "      <td>-0.689106</td>\n",
       "      <td>NaN</td>\n",
       "      <td>0.899211</td>\n",
       "      <td>1.000000</td>\n",
       "      <td>-0.753261</td>\n",
       "      <td>NaN</td>\n",
       "      <td>NaN</td>\n",
       "    </tr>\n",
       "    <tr>\n",
       "      <th>cabai_rawit</th>\n",
       "      <td>NaN</td>\n",
       "      <td>0.821457</td>\n",
       "      <td>NaN</td>\n",
       "      <td>-0.816704</td>\n",
       "      <td>-0.753261</td>\n",
       "      <td>1.000000</td>\n",
       "      <td>NaN</td>\n",
       "      <td>NaN</td>\n",
       "    </tr>\n",
       "    <tr>\n",
       "      <th>minyak_goreng</th>\n",
       "      <td>NaN</td>\n",
       "      <td>NaN</td>\n",
       "      <td>NaN</td>\n",
       "      <td>NaN</td>\n",
       "      <td>NaN</td>\n",
       "      <td>NaN</td>\n",
       "      <td>NaN</td>\n",
       "      <td>NaN</td>\n",
       "    </tr>\n",
       "    <tr>\n",
       "      <th>gula_pasir</th>\n",
       "      <td>NaN</td>\n",
       "      <td>NaN</td>\n",
       "      <td>NaN</td>\n",
       "      <td>NaN</td>\n",
       "      <td>NaN</td>\n",
       "      <td>NaN</td>\n",
       "      <td>NaN</td>\n",
       "      <td>NaN</td>\n",
       "    </tr>\n",
       "  </tbody>\n",
       "</table>\n",
       "</div>"
      ],
      "text/plain": [
       "               beras  daging_ayam  daging_sapi  bawang_merah  bawang_putih  \\\n",
       "beras            NaN          NaN          NaN           NaN           NaN   \n",
       "daging_ayam      NaN     1.000000          NaN     -0.841522     -0.689106   \n",
       "daging_sapi      NaN          NaN          NaN           NaN           NaN   \n",
       "bawang_merah     NaN    -0.841522          NaN      1.000000      0.899211   \n",
       "bawang_putih     NaN    -0.689106          NaN      0.899211      1.000000   \n",
       "cabai_rawit      NaN     0.821457          NaN     -0.816704     -0.753261   \n",
       "minyak_goreng    NaN          NaN          NaN           NaN           NaN   \n",
       "gula_pasir       NaN          NaN          NaN           NaN           NaN   \n",
       "\n",
       "               cabai_rawit  minyak_goreng  gula_pasir  \n",
       "beras                  NaN            NaN         NaN  \n",
       "daging_ayam       0.821457            NaN         NaN  \n",
       "daging_sapi            NaN            NaN         NaN  \n",
       "bawang_merah     -0.816704            NaN         NaN  \n",
       "bawang_putih     -0.753261            NaN         NaN  \n",
       "cabai_rawit       1.000000            NaN         NaN  \n",
       "minyak_goreng          NaN            NaN         NaN  \n",
       "gula_pasir             NaN            NaN         NaN  "
      ]
     },
     "execution_count": 28,
     "metadata": {},
     "output_type": "execute_result"
    }
   ],
   "source": [
    "df.corr()"
   ]
  },
  {
   "cell_type": "code",
   "execution_count": 32,
   "id": "4b99b72c",
   "metadata": {},
   "outputs": [
    {
     "name": "stdout",
     "output_type": "stream",
     "text": [
      "[[-- --]\n",
      " [-- 1.0]]\n"
     ]
    }
   ],
   "source": [
    "print(ma.corrcoef(ma.masked_invalid(df['beras']), ma.masked_invalid(df['daging_ayam'])))"
   ]
  },
  {
   "cell_type": "code",
   "execution_count": null,
   "id": "40e42ca9",
   "metadata": {},
   "outputs": [],
   "source": [
    "harga_cabe = Rp21850,Rp32550,Rp39450,Rp30550,Rp31450,Rp73250,Rp86700,Rp65050,Rp56000,Rp37050,Rp24850,Rp32500,Rp39250 \n"
   ]
  }
 ],
 "metadata": {
  "kernelspec": {
   "display_name": "Python 3 (ipykernel)",
   "language": "python",
   "name": "python3"
  },
  "language_info": {
   "codemirror_mode": {
    "name": "ipython",
    "version": 3
   },
   "file_extension": ".py",
   "mimetype": "text/x-python",
   "name": "python",
   "nbconvert_exporter": "python",
   "pygments_lexer": "ipython3",
   "version": "3.9.13"
  }
 },
 "nbformat": 4,
 "nbformat_minor": 5
}
